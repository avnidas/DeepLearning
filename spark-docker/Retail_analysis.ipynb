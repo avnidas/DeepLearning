{
 "cells": [
  {
   "cell_type": "code",
   "execution_count": 1,
   "metadata": {},
   "outputs": [],
   "source": [
    "#Initialize SQLContext from SparkContext\n",
    "from pyspark import SparkContext,SQLContext,SparkConf\n",
    "conf = SparkConf().setAppName(\"Hello\").setMaster(\"local[2]\")\n",
    "sc = SparkContext(conf=conf)\n",
    "sqlContext = SQLContext(sc)\n",
    "\n",
    "\n",
    "\n",
    "\n",
    "\n",
    "\n",
    "\n",
    "\n"
   ]
  },
  {
   "cell_type": "code",
   "execution_count": 2,
   "metadata": {},
   "outputs": [
    {
     "ename": "AnalysisException",
     "evalue": "u'Path does not exist: hdfs://cluster002ns/user/gl_faculty2_greatlearning/retail/txnsmall.JSON;'",
     "output_type": "error",
     "traceback": [
      "\u001b[0;31m\u001b[0m",
      "\u001b[0;31mAnalysisException\u001b[0mTraceback (most recent call last)",
      "\u001b[0;32m<ipython-input-2-7bd243cda709>\u001b[0m in \u001b[0;36m<module>\u001b[0;34m()\u001b[0m\n\u001b[1;32m      1\u001b[0m \u001b[0;31m#Reading JSON file from HDFS\u001b[0m\u001b[0;34m\u001b[0m\u001b[0;34m\u001b[0m\u001b[0m\n\u001b[1;32m      2\u001b[0m txns = sqlContext.read.json(\n\u001b[0;32m----> 3\u001b[0;31m   \"/user/gl_faculty2_greatlearning/retail/txnsmall.JSON\")\n\u001b[0m\u001b[1;32m      4\u001b[0m \u001b[0;31m#Display the first 10 records\u001b[0m\u001b[0;34m\u001b[0m\u001b[0;34m\u001b[0m\u001b[0m\n\u001b[1;32m      5\u001b[0m \u001b[0mtxns\u001b[0m\u001b[0;34m.\u001b[0m\u001b[0mshow\u001b[0m\u001b[0;34m(\u001b[0m\u001b[0;36m10\u001b[0m\u001b[0;34m)\u001b[0m\u001b[0;34m\u001b[0m\u001b[0m\n",
      "\u001b[0;32m/opt/cloudera/parcels/SPARK2/lib/spark2/python/pyspark/sql/readwriter.pyc\u001b[0m in \u001b[0;36mjson\u001b[0;34m(self, path, schema, primitivesAsString, prefersDecimal, allowComments, allowUnquotedFieldNames, allowSingleQuotes, allowNumericLeadingZero, allowBackslashEscapingAnyCharacter, mode, columnNameOfCorruptRecord, dateFormat, timestampFormat, multiLine)\u001b[0m\n\u001b[1;32m    247\u001b[0m             \u001b[0mpath\u001b[0m \u001b[0;34m=\u001b[0m \u001b[0;34m[\u001b[0m\u001b[0mpath\u001b[0m\u001b[0;34m]\u001b[0m\u001b[0;34m\u001b[0m\u001b[0m\n\u001b[1;32m    248\u001b[0m         \u001b[0;32mif\u001b[0m \u001b[0mtype\u001b[0m\u001b[0;34m(\u001b[0m\u001b[0mpath\u001b[0m\u001b[0;34m)\u001b[0m \u001b[0;34m==\u001b[0m \u001b[0mlist\u001b[0m\u001b[0;34m:\u001b[0m\u001b[0;34m\u001b[0m\u001b[0m\n\u001b[0;32m--> 249\u001b[0;31m             \u001b[0;32mreturn\u001b[0m \u001b[0mself\u001b[0m\u001b[0;34m.\u001b[0m\u001b[0m_df\u001b[0m\u001b[0;34m(\u001b[0m\u001b[0mself\u001b[0m\u001b[0;34m.\u001b[0m\u001b[0m_jreader\u001b[0m\u001b[0;34m.\u001b[0m\u001b[0mjson\u001b[0m\u001b[0;34m(\u001b[0m\u001b[0mself\u001b[0m\u001b[0;34m.\u001b[0m\u001b[0m_spark\u001b[0m\u001b[0;34m.\u001b[0m\u001b[0m_sc\u001b[0m\u001b[0;34m.\u001b[0m\u001b[0m_jvm\u001b[0m\u001b[0;34m.\u001b[0m\u001b[0mPythonUtils\u001b[0m\u001b[0;34m.\u001b[0m\u001b[0mtoSeq\u001b[0m\u001b[0;34m(\u001b[0m\u001b[0mpath\u001b[0m\u001b[0;34m)\u001b[0m\u001b[0;34m)\u001b[0m\u001b[0;34m)\u001b[0m\u001b[0;34m\u001b[0m\u001b[0m\n\u001b[0m\u001b[1;32m    250\u001b[0m         \u001b[0;32melif\u001b[0m \u001b[0misinstance\u001b[0m\u001b[0;34m(\u001b[0m\u001b[0mpath\u001b[0m\u001b[0;34m,\u001b[0m \u001b[0mRDD\u001b[0m\u001b[0;34m)\u001b[0m\u001b[0;34m:\u001b[0m\u001b[0;34m\u001b[0m\u001b[0m\n\u001b[1;32m    251\u001b[0m             \u001b[0;32mdef\u001b[0m \u001b[0mfunc\u001b[0m\u001b[0;34m(\u001b[0m\u001b[0miterator\u001b[0m\u001b[0;34m)\u001b[0m\u001b[0;34m:\u001b[0m\u001b[0;34m\u001b[0m\u001b[0m\n",
      "\u001b[0;32m/opt/cloudera/parcels/SPARK2/lib/spark2/python/lib/py4j-0.10.4-src.zip/py4j/java_gateway.py\u001b[0m in \u001b[0;36m__call__\u001b[0;34m(self, *args)\u001b[0m\n\u001b[1;32m   1131\u001b[0m         \u001b[0manswer\u001b[0m \u001b[0;34m=\u001b[0m \u001b[0mself\u001b[0m\u001b[0;34m.\u001b[0m\u001b[0mgateway_client\u001b[0m\u001b[0;34m.\u001b[0m\u001b[0msend_command\u001b[0m\u001b[0;34m(\u001b[0m\u001b[0mcommand\u001b[0m\u001b[0;34m)\u001b[0m\u001b[0;34m\u001b[0m\u001b[0m\n\u001b[1;32m   1132\u001b[0m         return_value = get_return_value(\n\u001b[0;32m-> 1133\u001b[0;31m             answer, self.gateway_client, self.target_id, self.name)\n\u001b[0m\u001b[1;32m   1134\u001b[0m \u001b[0;34m\u001b[0m\u001b[0m\n\u001b[1;32m   1135\u001b[0m         \u001b[0;32mfor\u001b[0m \u001b[0mtemp_arg\u001b[0m \u001b[0;32min\u001b[0m \u001b[0mtemp_args\u001b[0m\u001b[0;34m:\u001b[0m\u001b[0;34m\u001b[0m\u001b[0m\n",
      "\u001b[0;32m/opt/cloudera/parcels/SPARK2/lib/spark2/python/pyspark/sql/utils.pyc\u001b[0m in \u001b[0;36mdeco\u001b[0;34m(*a, **kw)\u001b[0m\n\u001b[1;32m     67\u001b[0m                                              e.java_exception.getStackTrace()))\n\u001b[1;32m     68\u001b[0m             \u001b[0;32mif\u001b[0m \u001b[0ms\u001b[0m\u001b[0;34m.\u001b[0m\u001b[0mstartswith\u001b[0m\u001b[0;34m(\u001b[0m\u001b[0;34m'org.apache.spark.sql.AnalysisException: '\u001b[0m\u001b[0;34m)\u001b[0m\u001b[0;34m:\u001b[0m\u001b[0;34m\u001b[0m\u001b[0m\n\u001b[0;32m---> 69\u001b[0;31m                 \u001b[0;32mraise\u001b[0m \u001b[0mAnalysisException\u001b[0m\u001b[0;34m(\u001b[0m\u001b[0ms\u001b[0m\u001b[0;34m.\u001b[0m\u001b[0msplit\u001b[0m\u001b[0;34m(\u001b[0m\u001b[0;34m': '\u001b[0m\u001b[0;34m,\u001b[0m \u001b[0;36m1\u001b[0m\u001b[0;34m)\u001b[0m\u001b[0;34m[\u001b[0m\u001b[0;36m1\u001b[0m\u001b[0;34m]\u001b[0m\u001b[0;34m,\u001b[0m \u001b[0mstackTrace\u001b[0m\u001b[0;34m)\u001b[0m\u001b[0;34m\u001b[0m\u001b[0m\n\u001b[0m\u001b[1;32m     70\u001b[0m             \u001b[0;32mif\u001b[0m \u001b[0ms\u001b[0m\u001b[0;34m.\u001b[0m\u001b[0mstartswith\u001b[0m\u001b[0;34m(\u001b[0m\u001b[0;34m'org.apache.spark.sql.catalyst.analysis'\u001b[0m\u001b[0;34m)\u001b[0m\u001b[0;34m:\u001b[0m\u001b[0;34m\u001b[0m\u001b[0m\n\u001b[1;32m     71\u001b[0m                 \u001b[0;32mraise\u001b[0m \u001b[0mAnalysisException\u001b[0m\u001b[0;34m(\u001b[0m\u001b[0ms\u001b[0m\u001b[0;34m.\u001b[0m\u001b[0msplit\u001b[0m\u001b[0;34m(\u001b[0m\u001b[0;34m': '\u001b[0m\u001b[0;34m,\u001b[0m \u001b[0;36m1\u001b[0m\u001b[0;34m)\u001b[0m\u001b[0;34m[\u001b[0m\u001b[0;36m1\u001b[0m\u001b[0;34m]\u001b[0m\u001b[0;34m,\u001b[0m \u001b[0mstackTrace\u001b[0m\u001b[0;34m)\u001b[0m\u001b[0;34m\u001b[0m\u001b[0m\n",
      "\u001b[0;31mAnalysisException\u001b[0m: u'Path does not exist: hdfs://cluster002ns/user/gl_faculty2_greatlearning/retail/txnsmall.JSON;'"
     ]
    }
   ],
   "source": [
    "#Reading JSON file from HDFS\n",
    "txns = sqlContext.read.json(\n",
    "  \"/user/gl_faculty2_greatlearning/retail/txnsmall.JSON\")\n",
    "#Display the first 10 records\n",
    "txns.show(10)"
   ]
  },
  {
   "cell_type": "code",
   "execution_count": null,
   "metadata": {
    "collapsed": true
   },
   "outputs": [],
   "source": [
    "#Flatten the nested structure The line items are nested structure in #each transaction.\n",
    "#Display the lineitems of first 5 transactions\n",
    "txns.select(\"lineItems\").take(5)\n",
    "\n",
    "from pyspark.sql.functions import *\n",
    "\n",
    "#Explode function in spark sql can be used to flatten the records\n",
    "\n",
    "txns_new = txns.select( 'txnNo', 'tDate', 'customerNo', 'merchantCity',\n",
    "                     'state', 'item.category',\n",
    "                     'item.product', 'item.amount',\n",
    "                     explode( txns.lineItems ).alias( 'item' ) ).drop( 'item')\n",
    "txns_new.show(10)\n"
   ]
  },
  {
   "cell_type": "code",
   "execution_count": null,
   "metadata": {
    "collapsed": true
   },
   "outputs": [],
   "source": [
    "#Register the new table as temporary ( in memory ) table, so that we can #run SQL Queries on it\n",
    "txns_new.registerTempTable(\"txnrecords\")\n",
    "\n",
    "#lets cache the txnrecords table in the memory\n",
    "sqlContext.cacheTable(\"txnrecords\")"
   ]
  },
  {
   "cell_type": "code",
   "execution_count": null,
   "metadata": {
    "collapsed": true
   },
   "outputs": [],
   "source": [
    "#Find revenue generated by state and product\n",
    "revenue_by_state = sqlContext.sql(\"select state, product, sum( amount ) as total from txnrecords group by state, product\")\n",
    "\n",
    "revenue_by_state.show(10)\n",
    "\n",
    "#Register the result sets as temporary table\n",
    "revenue_by_state.registerTempTable('state_revenue')\n"
   ]
  },
  {
   "cell_type": "code",
   "execution_count": null,
   "metadata": {
    "collapsed": true
   },
   "outputs": [],
   "source": [
    "#Write an UDF ( User defined function ) to extract week day name from #the date field\n",
    "\n",
    "import datetime\n",
    "def getDayOfWeek(date):\n",
    "  return datetime.datetime.strptime(date, \"%m-%d-%Y\").strftime('%A')\n",
    "  "
   ]
  },
  {
   "cell_type": "code",
   "execution_count": null,
   "metadata": {
    "collapsed": true
   },
   "outputs": [],
   "source": [
    "\n",
    "from pyspark.sql.types import StringType\n",
    "sqlContext.udf.register(\"getDayOfWeek\", lambda date: getDayOfWeek(date),\n",
    "                      StringType() )\n",
    "\t\t\t\t\t  \n",
    "revenue_by_state = sqlContext.sql( '''select weekday as weekday, \n",
    "                                  round( sum( amount ), 2 ) as total \n",
    "                                  from ( select getDayOfWeek( tDate ) as weekday, \n",
    "                                  amount from txnrecords ) txns \n",
    "                                  group by weekday order by total desc''' )\n",
    "\n",
    "revenue_by_state.show(10) "
   ]
  },
  {
   "cell_type": "code",
   "execution_count": 8,
   "metadata": {},
   "outputs": [
    {
     "name": "stdout",
     "output_type": "stream",
     "text": [
      "+---------+--------+\n",
      "|  weekday|   total|\n",
      "+---------+--------+\n",
      "| Thursday| 94549.2|\n",
      "|Wednesday|85091.56|\n",
      "|   Monday|81712.77|\n",
      "|   Sunday|79634.08|\n",
      "|  Tuesday|79594.51|\n",
      "| Saturday|78114.84|\n",
      "|   Friday| 71809.1|\n",
      "+---------+--------+\n",
      "\n"
     ]
    }
   ],
   "source": [
    "#Initialize SQLContext from SparkContext\n",
    "from pyspark import SparkContext,SQLContext,SparkConf\n",
    "conf = SparkConf().setAppName(\"Hello\").setMaster(\"local[2]\")\n",
    "#sc = SparkContext(conf=conf)\n",
    "#sqlContext = SQLContext(sc)\n",
    "\n",
    "#Reading JSON file from HDFS\n",
    "txns = sqlContext.read.json(\n",
    "  \"/user/gl_faculty2_greatlearning/retail/txnsmall.JSON\")\n",
    "#Display the first 10 records\n",
    "#txns.show(10)\n",
    "\n",
    "#Flatten the nested structure The line items are nested structure in #each transaction.\n",
    "#Display the lineitems of first 5 transactions\n",
    "#txns.select(\"lineItems\").take(5)\n",
    "\n",
    "from pyspark.sql.functions import *\n",
    "\n",
    "txns_new = txns.select( 'txnNo', 'tDate', 'customerNo', 'merchantCity',\n",
    "                     'state', 'item.category',\n",
    "                     'item.product', 'item.amount',\n",
    "                     explode( txns.lineItems ).alias( 'item' ) ).drop( 'item')\n",
    "\n",
    "\n",
    "#Register the new table as temporary ( in memory ) table, so that we can #run SQL Queries on it\n",
    "txns_new.registerTempTable(\"txnrecords\")\n",
    "\n",
    "#lets cache the txnrecords table in the memory\n",
    "sqlContext.cacheTable(\"txnrecords\")\n",
    "\n",
    "\n",
    "#Find revenue generated by state and product\n",
    "revenue_by_state = sqlContext.sql(\"select state, product, sum( amount ) as total from txnrecords group by state, product\")\n",
    "\n",
    "import datetime\n",
    "def getDayOfWeek(date):\n",
    "  return datetime.datetime.strptime(date, \"%m-%d-%Y\").strftime('%A')\n",
    "  \n",
    "from pyspark.sql.types import StringType\n",
    "sqlContext.udf.register(\"getDayOfWeek\", lambda date: getDayOfWeek(date),\n",
    "                      StringType() )\n",
    "\t\t\t\t\t  \n",
    "revenue_by_state = sqlContext.sql( '''select weekday as weekday, \n",
    "                                  round( sum( amount ), 2 ) as total \n",
    "                                  from ( select getDayOfWeek( tDate ) as weekday, \n",
    "                                  amount from txnrecords ) txns \n",
    "                                  group by weekday order by total desc''' )\n",
    "\n",
    "revenue_by_state.show(10) \n",
    "\n"
   ]
  },
  {
   "cell_type": "code",
   "execution_count": null,
   "metadata": {
    "collapsed": true
   },
   "outputs": [],
   "source": []
  }
 ],
 "metadata": {
  "kernelspec": {
   "display_name": "Python 3",
   "language": "python",
   "name": "python3"
  },
  "language_info": {
   "codemirror_mode": {
    "name": "ipython",
    "version": 3
   },
   "file_extension": ".py",
   "mimetype": "text/x-python",
   "name": "python",
   "nbconvert_exporter": "python",
   "pygments_lexer": "ipython3",
   "version": "3.6.5"
  }
 },
 "nbformat": 4,
 "nbformat_minor": 2
}
