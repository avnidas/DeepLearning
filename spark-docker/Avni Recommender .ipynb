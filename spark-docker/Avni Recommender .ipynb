{
 "cells": [
  {
   "cell_type": "code",
   "execution_count": 1,
   "metadata": {},
   "outputs": [],
   "source": [
    "### Avni ### "
   ]
  },
  {
   "cell_type": "code",
   "execution_count": 7,
   "metadata": {},
   "outputs": [],
   "source": [
    "##Root Mean Squared Error. We will conside only non-zero ratings\n",
    "def rmse(prediction, ground_truth):\n",
    "    prediction = prediction[ground_truth.nonzero()].flatten()\n",
    "    ground_truth = ground_truth[ground_truth.nonzero()].flatten()\n",
    "    return sqrt(mean_squared_error(prediction, ground_truth))\n",
    " "
   ]
  },
  {
   "cell_type": "code",
   "execution_count": 10,
   "metadata": {},
   "outputs": [],
   "source": [
    "##Predit function to find user-user similarity and item-item similarity. User bias is removed by adjusting the\n",
    "##mean user bias before predicting ratings\n",
    "def predict(ratings, similarity, type='user',epsilon=1e20):\n",
    "    if type == 'user':\n",
    "        mean_user_rating = ratings.mean(axis=1)\n",
    "        #You use np.newaxis so that mean_user_rating has same format as ratings\n",
    "        ratings_diff = (ratings - mean_user_rating[:, np.newaxis])\n",
    "        pred = mean_user_rating[:, np.newaxis] + similarity.dot(ratings_diff) / np.array([np.abs(similarity).sum(axis=1)]).T\n",
    "    elif type == 'item':\n",
    "        pred = ratings.dot(similarity) / np.array([np.abs(similarity).sum(axis=1)])\n",
    "    return pred"
   ]
  },
  {
   "cell_type": "code",
   "execution_count": 13,
   "metadata": {},
   "outputs": [],
   "source": [
    "##\n",
    "##Find the top-k movie names based on the ordered ratings\n",
    "##\n",
    "def top_k_movies_byuser(prediction, mapper, user_idx, k=6):\n",
    "    return [mapper[x] for x in np.argsort(prediction[user_idx,np.where(train_data_matrix[user_idx, :] == 0)[0]])[:-k-1:-1]]"
   ]
  },
  {
   "cell_type": "code",
   "execution_count": 14,
   "metadata": {},
   "outputs": [],
   "source": [
    "##Predict the ratings using dot product of the latent features for users and items\n",
    "def predictionSGD(P,Q):\n",
    "    return np.dot(P.T,Q)"
   ]
  },
  {
   "cell_type": "code",
   "execution_count": 15,
   "metadata": {},
   "outputs": [],
   "source": [
    "import numpy as np\n",
    "import pandas as pd\n",
    "from sklearn.metrics import mean_squared_error\n",
    "from math import sqrt\n",
    "from sklearn.metrics.pairwise import pairwise_distances"
   ]
  },
  {
   "cell_type": "code",
   "execution_count": 16,
   "metadata": {},
   "outputs": [],
   "source": [
    "trainRMSE = []\n",
    "testRMSE = []"
   ]
  },
  {
   "cell_type": "code",
   "execution_count": 18,
   "metadata": {},
   "outputs": [
    {
     "name": "stdout",
     "output_type": "stream",
     "text": [
      "Number of users = 943 | Number of movies = 1682\n"
     ]
    }
   ],
   "source": [
    "header = ['user_id', 'item_id', 'rating', 'timestamp']\n",
    "df = pd.read_csv('ml-100k/u.data', sep='\\t', names=header)\n",
    "n_users = df.user_id.unique().shape[0]\n",
    "n_items = df.item_id.unique().shape[0]\n",
    "print 'Number of users = ' + str(n_users) + ' | Number of movies = ' + str(n_items)"
   ]
  },
  {
   "cell_type": "code",
   "execution_count": 48,
   "metadata": {},
   "outputs": [],
   "source": [
    "from sklearn import cross_validation as cv\n",
    "train_data, test_data = cv.train_test_split(df, test_size=0.25)"
   ]
  },
  {
   "cell_type": "code",
   "execution_count": 49,
   "metadata": {},
   "outputs": [],
   "source": [
    "#Create two user-item matrices, one for training and another for testing\n",
    "\n",
    "train_data_matrix = np.zeros((n_users, n_items))\n",
    "for line in train_data.itertuples():\n",
    "        train_data_matrix[line[1]-1, line[2]-1] = line[3]\n",
    "        \n",
    "        \n",
    "test_data_matrix = np.zeros((n_users, n_items))\n",
    "for line in test_data.itertuples():\n",
    "        test_data_matrix[line[1]-1, line[2]-1] = line[3]        "
   ]
  },
  {
   "cell_type": "code",
   "execution_count": 51,
   "metadata": {},
   "outputs": [],
   "source": [
    "# Load movie data\n",
    "idx_to_movie = {}\n",
    "with open('ml-100k/u.item', 'r') as f:\n",
    "    for line in f.readlines():\n",
    "        info = line.split('|')\n",
    "        idx_to_movie[int(info[0])-1] = info[1]"
   ]
  },
  {
   "cell_type": "code",
   "execution_count": 52,
   "metadata": {},
   "outputs": [],
   "source": [
    "# Compute the cosine distance and 1-cosine distance yields cosine similarity.epsilon is used to handle the \n",
    "# divide by zero scenarios\n",
    "epsilon=1e-9\n",
    "\n",
    "user_similarity = (1-pairwise_distances(train_data_matrix, metric='cosine')) + epsilon\n",
    "\n",
    "item_similarity = (1-pairwise_distances(train_data_matrix.T, metric='cosine')) + epsilon\n",
    " "
   ]
  },
  {
   "cell_type": "code",
   "execution_count": 53,
   "metadata": {},
   "outputs": [],
   "source": [
    "user_idx = 16"
   ]
  },
  {
   "cell_type": "code",
   "execution_count": 54,
   "metadata": {},
   "outputs": [],
   "source": [
    "pred = predict(train_data_matrix, user_similarity, type='user')\n",
    " "
   ]
  },
  {
   "cell_type": "code",
   "execution_count": 55,
   "metadata": {},
   "outputs": [],
   "source": [
    "userBasedTrainRMSE = rmse(pred, train_data_matrix)\n",
    "userBasedTestRMSE = rmse(pred, test_data_matrix)"
   ]
  },
  {
   "cell_type": "code",
   "execution_count": 56,
   "metadata": {},
   "outputs": [],
   "source": [
    "trainRMSE.append(userBasedTrainRMSE)\n",
    "testRMSE.append(userBasedTestRMSE)"
   ]
  },
  {
   "cell_type": "code",
   "execution_count": 57,
   "metadata": {},
   "outputs": [
    {
     "name": "stdout",
     "output_type": "stream",
     "text": [
      "User-based CF MSE on train data: 2.89516426947\n",
      "User-based CF MSE on train data: 2.96846942576\n",
      "\n",
      "Movies recommended to user 16 are:\n",
      "['Hoop Dreams (1994)', 'Turbo: A Power Rangers Movie (1997)', 'Toy Story (1995)', 'Princess Bride, The (1987)', 'Heat (1995)', 'Cable Guy, The (1996)']\n",
      "\n"
     ]
    }
   ],
   "source": [
    "print 'User-based CF MSE on train data: ' + str(userBasedTrainRMSE)\n",
    "print 'User-based CF MSE on train data: ' + str(userBasedTestRMSE)+\"\\n\"\n",
    "print \"Movies recommended to user \" + str(user_idx) + \" are:\"\n",
    "nearestMovies = top_k_movies_byuser(pred, idx_to_movie, user_idx)\n",
    "print str(nearestMovies)  + \"\\n\""
   ]
  },
  {
   "cell_type": "code",
   "execution_count": 58,
   "metadata": {},
   "outputs": [],
   "source": [
    "pred = predict(train_data_matrix, item_similarity, type='item')"
   ]
  },
  {
   "cell_type": "code",
   "execution_count": 37,
   "metadata": {},
   "outputs": [],
   "source": [
    "itemBasedTrainRMSE = rmse(pred, train_data_matrix)\n",
    "itemBasedTestRMSE = rmse(pred, test_data_matrix)\n",
    "trainRMSE.append(itemBasedTrainRMSE)\n",
    "testRMSE.append(itemBasedTestRMSE)"
   ]
  },
  {
   "cell_type": "code",
   "execution_count": 38,
   "metadata": {},
   "outputs": [
    {
     "name": "stdout",
     "output_type": "stream",
     "text": [
      "Item-based CF MSE on test data: 3.10052294452\n",
      "Item-based CF MSE on test data: 3.15922145752\n",
      "\n",
      "Movies recommended to user 16 are:\n",
      "['Virtuosity (1995)', 'Invitation, The (Zaproszenie) (1986)', \"Lover's Knot (1996)\", 'Shallow Grave (1994)', 'Loaded (1994)', 'Getaway, The (1994)']\n",
      "\n"
     ]
    }
   ],
   "source": [
    "print 'Item-based CF MSE on test data: ' + str(itemBasedTrainRMSE)\n",
    "print 'Item-based CF MSE on test data: ' + str(itemBasedTestRMSE)+\"\\n\"\n",
    "print \"Movies recommended to user \" + str(user_idx) + \" are:\"\n",
    " \n",
    "nearestMovies = top_k_movies_byuser(pred, idx_to_movie, user_idx)\n",
    "print str(nearestMovies)  + \"\\n\""
   ]
  },
  {
   "cell_type": "markdown",
   "metadata": {},
   "source": [
    "# SVD"
   ]
  },
  {
   "cell_type": "code",
   "execution_count": 39,
   "metadata": {},
   "outputs": [],
   "source": [
    "import scipy.sparse as sp\n",
    "from scipy.sparse.linalg import svds"
   ]
  },
  {
   "cell_type": "code",
   "execution_count": 40,
   "metadata": {},
   "outputs": [],
   "source": [
    "#get SVD components from train matrix. Choose k.\n",
    "u, s, vt = svds(train_data_matrix, k = 30)\n",
    "s_diag_matrix=np.diag(s)\n",
    "X_pred = np.dot(np.dot(u, s_diag_matrix), vt)"
   ]
  },
  {
   "cell_type": "code",
   "execution_count": 41,
   "metadata": {},
   "outputs": [],
   "source": [
    "modelBasedTrainRMSE = rmse(X_pred, train_data_matrix)\n",
    "modelBasedTestRMSE = rmse(X_pred, test_data_matrix)\n",
    "trainRMSE.append(modelBasedTrainRMSE)\n",
    "testRMSE.append(modelBasedTestRMSE)"
   ]
  },
  {
   "cell_type": "code",
   "execution_count": 42,
   "metadata": {},
   "outputs": [
    {
     "name": "stdout",
     "output_type": "stream",
     "text": [
      "Model-based CF MSE on train data: 2.27825167047\n",
      "Model-based CF MSE on test data: 2.78277944122\n",
      "\n"
     ]
    }
   ],
   "source": [
    "print 'Model-based CF MSE on train data: ' + str(modelBasedTrainRMSE)\n",
    "print 'Model-based CF MSE on test data: ' + str(modelBasedTestRMSE) + \"\\n\"\n",
    " "
   ]
  },
  {
   "cell_type": "code",
   "execution_count": 43,
   "metadata": {},
   "outputs": [
    {
     "name": "stdout",
     "output_type": "stream",
     "text": [
      "Movies recommended to user 16 are:\n",
      "[\"My Best Friend's Wedding (1997)\", 'Heat (1995)', 'Richard III (1995)', 'Truth About Cats & Dogs, The (1996)', 'Die Hard 2 (1990)', 'Gattaca (1997)']\n",
      "\n"
     ]
    }
   ],
   "source": [
    "print \"Movies recommended to user \" + str(user_idx) + \" are:\"\n",
    "nearestMovies = top_k_movies_byuser(X_pred, idx_to_movie, user_idx)\n",
    "print str(nearestMovies) + \"\\n\""
   ]
  },
  {
   "cell_type": "code",
   "execution_count": 59,
   "metadata": {},
   "outputs": [
    {
     "name": "stdout",
     "output_type": "stream",
     "text": [
      "   Actual Rating  Predicted Rating\n",
      "0            4.0          1.990441\n",
      "1            3.0          1.328916\n",
      "2            4.0          3.863118\n",
      "3            3.0          0.898068\n",
      "4            1.0          0.619612\n"
     ]
    }
   ],
   "source": [
    "# Compare true ratings of user with predictions\n",
    "ratings = pd.DataFrame(columns = (\"Actual Rating\",\"Predicted Rating\"))\n",
    "ratings[\"Actual Rating\"] = train_data_matrix[user_idx,np.where(train_data_matrix[user_idx, :] > 0)[0]][0:5]\n",
    "ratings[\"Predicted Rating\"] = X_pred[user_idx,np.where(train_data_matrix[user_idx, :] > 0)[0]][0:5]\n",
    "print ratings"
   ]
  },
  {
   "cell_type": "markdown",
   "metadata": {},
   "source": [
    "# RMSE in the model based CF is not any better than the memory based model. Another big issue with the matrix factorization approach is that it does not work well with missing data.MovieLens dataset that is considered in this script has no Nan/missing values and thus the SVD worked."
   ]
  },
  {
   "cell_type": "code",
   "execution_count": 46,
   "metadata": {},
   "outputs": [
    {
     "name": "stdout",
     "output_type": "stream",
     "text": [
      "   Actual Rating  Predicted Rating\n",
      "0            4.0          0.116125\n",
      "1            4.0          0.117659\n",
      "2            3.0          0.119754\n",
      "3            3.0          0.133536\n",
      "4            4.0          0.121288\n"
     ]
    }
   ],
   "source": [
    "# Compare true ratings of user with predictions\n",
    "ratings = pd.DataFrame(columns = (\"Actual Rating\",\"Predicted Rating\"))\n",
    "ratings[\"Actual Rating\"] = train_data_matrix[user_idx,np.where(train_data_matrix[user_idx, :] > 0)[0]][0:5]\n",
    "ratings[\"Predicted Rating\"] = pred[user_idx,np.where(train_data_matrix[user_idx, :] > 0)[0]][0:5]\n",
    "print ratings"
   ]
  },
  {
   "cell_type": "code",
   "execution_count": 47,
   "metadata": {},
   "outputs": [
    {
     "data": {
      "image/png": "[encoded data removed]",
      "text/plain": [
       "<Figure size 432x288 with 1 Axes>"
      ]
     },
     "metadata": {
      "needs_background": "light"
     },
     "output_type": "display_data"
    }
   ],
   "source": [
    "import numpy as np\n",
    "import matplotlib.pyplot as plt\n",
    " \n",
    "fig = plt.figure()\n",
    "ax = fig.add_subplot(111)\n",
    " \n",
    "## the data\n",
    "N = 3\n",
    "## necessary variables\n",
    "ind = np.arange(N)                # the x locations for the groups\n",
    "width = 0.35                      # the width of the bars\n",
    " \n",
    "## the bars\n",
    "rects1 = ax.bar(ind, trainRMSE, width,color='black')\n",
    " \n",
    "rects2 = ax.bar(ind+width, testRMSE, width, color='red')\n",
    " \n",
    "# axes and labels\n",
    "ax.set_xlim(-width,len(ind)+width)\n",
    "ax.set_ylim(0,4)\n",
    "ax.set_ylabel('RMSE')\n",
    "ax.set_title('RMSE by train/test for different recommenders')\n",
    "xTickMarks = ['User CF','Item CF','SVD']\n",
    "ax.set_xticks(ind+width)\n",
    "xtickNames = ax.set_xticklabels(xTickMarks)\n",
    "plt.setp(xtickNames, rotation=45, fontsize=10)\n",
    "## add a legend\n",
    "ax.legend( (rects1[0], rects2[0]), ('Train', 'Test') )\n",
    "plt.show()\n"
   ]
  },
  {
   "cell_type": "code",
   "execution_count": null,
   "metadata": {},
   "outputs": [],
   "source": []
  }
 ],
 "metadata": {
  "kernelspec": {
   "display_name": "Python 2",
   "language": "python",
   "name": "python2"
  },
  "language_info": {
   "codemirror_mode": {
    "name": "ipython",
    "version": 2
   },
   "file_extension": ".py",
   "mimetype": "text/x-python",
   "name": "python",
   "nbconvert_exporter": "python",
   "pygments_lexer": "ipython2",
   "version": "2.7.15"
  }
 },
 "nbformat": 4,
 "nbformat_minor": 2
}
