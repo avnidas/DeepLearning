{
 "cells": [
  {
   "cell_type": "code",
   "execution_count": 1,
   "metadata": {},
   "outputs": [],
   "source": [
    "import numpy as np"
   ]
  },
  {
   "cell_type": "code",
   "execution_count": 2,
   "metadata": {},
   "outputs": [],
   "source": [
    "#gdpf : gausian probability density formula \n",
    "def my_gpdf(x,mean,sd):\n",
    "    exponent=np.exp(-((x-mean)**2/(2*sd**2)))\n",
    "    return (1/(np.sqrt(2*np.pi)*sd))*exponent\n"
   ]
  },
  {
   "cell_type": "code",
   "execution_count": 12,
   "metadata": {},
   "outputs": [
    {
     "data": {
      "text/plain": [
       "0.8290476463991681"
      ]
     },
     "execution_count": 12,
     "metadata": {},
     "output_type": "execute_result"
    }
   ],
   "source": [
    "np.mean([3.39,3.11,1.34,3.58,2.28])\n",
    "np.std([3.39,3.11,1.34,3.58,2.28])"
   ]
  },
  {
   "cell_type": "code",
   "execution_count": 15,
   "metadata": {},
   "outputs": [
    {
     "data": {
      "text/plain": [
       "0.9912941036846733"
      ]
     },
     "execution_count": 15,
     "metadata": {},
     "output_type": "execute_result"
    }
   ],
   "source": [
    "np.mean([2.33,1.78,3.37,4.68,2.87])\n",
    "np.std([2.33,1.78,3.37,4.68,2.87])"
   ]
  },
  {
   "cell_type": "code",
   "execution_count": 13,
   "metadata": {},
   "outputs": [
    {
     "data": {
      "text/plain": [
       "0.4609734949428487"
      ]
     },
     "execution_count": 13,
     "metadata": {},
     "output_type": "execute_result"
    }
   ],
   "source": [
    "my_gpdf(2.98,2.74,0.83)"
   ]
  },
  {
   "cell_type": "code",
   "execution_count": 17,
   "metadata": {},
   "outputs": [
    {
     "data": {
      "text/plain": [
       "0.14640503118451428"
      ]
     },
     "execution_count": 17,
     "metadata": {},
     "output_type": "execute_result"
    }
   ],
   "source": [
    "my_gpdf(1.95,2.74,0.9926)*0.5"
   ]
  },
  {
   "cell_type": "code",
   "execution_count": 18,
   "metadata": {},
   "outputs": [
    {
     "name": "stdout",
     "output_type": "stream",
     "text": [
      "0.06748883890234231\n"
     ]
    }
   ],
   "source": [
    "p_class_0=my_gpdf(2.98,2.74,0.83)*my_gpdf(1.95,2.74,0.9926)*0.5\n",
    "print(p_class_0)"
   ]
  },
  {
   "cell_type": "code",
   "execution_count": 6,
   "metadata": {},
   "outputs": [
    {
     "name": "stdout",
     "output_type": "stream",
     "text": [
      "2.6693976980005123e-05\n"
     ]
    }
   ],
   "source": [
    "p_class_1=my_gpdf(2.98,7.61,1.23)*my_gpdf(1.80,2.99,1.45)*0.5\n",
    "print(p_class_1)"
   ]
  },
  {
   "cell_type": "code",
   "execution_count": 7,
   "metadata": {},
   "outputs": [
    {
     "name": "stdout",
     "output_type": "stream",
     "text": [
      "7.678165435586089e-12\n"
     ]
    }
   ],
   "source": [
    "#Test Record: [8.96,2.32]\n",
    "p_class_0=my_gpdf(8.96,2.74,0.92)*my_gpdf(2.32,3,1.107)*0.5\n",
    "print(p_class_0)"
   ]
  },
  {
   "cell_type": "code",
   "execution_count": 8,
   "metadata": {},
   "outputs": [
    {
     "name": "stdout",
     "output_type": "stream",
     "text": [
      "0.021956855059489598\n"
     ]
    }
   ],
   "source": [
    "p_class_1=my_gpdf(8.96,7.61,1.23)*my_gpdf(2.32,2.99,1.45)*0.5\n",
    "print(p_class_1)"
   ]
  },
  {
   "cell_type": "code",
   "execution_count": null,
   "metadata": {},
   "outputs": [],
   "source": []
  },
  {
   "cell_type": "code",
   "execution_count": null,
   "metadata": {},
   "outputs": [],
   "source": []
  }
 ],
 "metadata": {
  "kernelspec": {
   "display_name": "Python 3",
   "language": "python",
   "name": "python3"
  },
  "language_info": {
   "codemirror_mode": {
    "name": "ipython",
    "version": 3
   },
   "file_extension": ".py",
   "mimetype": "text/x-python",
   "name": "python",
   "nbconvert_exporter": "python",
   "pygments_lexer": "ipython3",
   "version": "3.6.5"
  }
 },
 "nbformat": 4,
 "nbformat_minor": 2
}
