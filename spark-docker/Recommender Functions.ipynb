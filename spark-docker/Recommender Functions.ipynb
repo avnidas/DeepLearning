{
 "cells": [
  {
   "cell_type": "code",
   "execution_count": 1,
   "metadata": {},
   "outputs": [],
   "source": [
    "def convert_int(x):  # this is to make sure the id columns of our data is clean and type integer\n",
    "    try:\n",
    "        return int(x)\n",
    "    except:\n",
    "        return np.nan  # if exception is raised then we replace id with null value"
   ]
  },
  {
   "cell_type": "code",
   "execution_count": 2,
   "metadata": {},
   "outputs": [],
   "source": [
    "def predict(ratings, similarity, type='user'):\n",
    "    if type == 'user':\n",
    "        mean_user_rating = ratings.mean(axis=1)\n",
    "        # We use np.newaxis so that mean_user_rating has same format as ratings\n",
    "        ratings_diff = (ratings - mean_user_rating[:, np.newaxis])\n",
    "        pred = mean_user_rating[:, np.newaxis] + similarity.dot(ratings_diff) / np.array(\n",
    "            [np.abs(similarity).sum(axis=1)]).T\n",
    "    elif type == 'item':\n",
    "        pred = ratings.dot(similarity) / np.array([np.abs(similarity).sum(axis=1)])\n",
    "    return pred\n"
   ]
  },
  {
   "cell_type": "code",
   "execution_count": 3,
   "metadata": {},
   "outputs": [],
   "source": [
    "#User-based CF model#\n",
    "def get_recommendations_User_based_CF(user_id):\n",
    "    \n",
    "    print('User-based collaborative filtering\\n')\n",
    "    cosine_similarity_users = cosine_similarity(pivot_df,pivot_df)\n",
    "    print('cosine_similarity_users.shape\\n', cosine_similarity_users.shape)\n",
    "        \n",
    "    user_index = user_id-1\n",
    "    similar_user_indices = cosine_similarity_users[user_index].argsort()[:-51:-1]\n",
    "    similar_users = (similar_user_indices + 1).tolist()\n",
    "    del similar_users[0] #Every user is similar to himself, so remove his user_id\n",
    "    \n",
    "    print('\\nTop 10 recommended movies for user_id {} are below:\\n'.format(user_id))    \n",
    "    recommendations = set()    \n",
    "    recommendations_list = []\n",
    "    for userID in similar_users:\n",
    "        movie_indices = np.where(((pivot_df[userID-1]>4.0)+0)==1)\n",
    "        movie_ids = np.array(movie_indices) + 1\n",
    "        recommendations.update(set(movie_ids.flatten()))     \n",
    "    \n",
    "    return list(recommendations)"
   ]
  },
  {
   "cell_type": "code",
   "execution_count": 4,
   "metadata": {},
   "outputs": [],
   "source": [
    "# Model Evaluation #\n",
    "def model_evaluation(user_id, rec_movie_titles_list):\n",
    "    # Relevant movies for the user = 'user_viewed'\n",
    "    user_viewed = user_rated_testdata.loc[(user_rated_testdata['user_id'] == user_id)].sort_values(['rating'], ascending=False)\n",
    "    print('Total no. of movies user viewed: ', len(user_viewed))\n",
    "\n",
    "    # Among movies viewed by the user, which are highly rated(liked) = 'user_rated_high'\n",
    "    user_rated_high = user_viewed.loc[(user_viewed['rating'] >= 4.0)].sort_values(['rating'], ascending=False)\n",
    "    print('Among the movies user viewed, total no. of movies user rated high(liked): ', len(user_rated_high))\n",
    "\n",
    "    model_recommended = user_rated_high.loc[user_rated_high['movie_title'].isin(rec_movie_titles_list)]\n",
    "    print('Among the movies user viewed & rated high(liked), total no. of movies model recommended: ', len(model_recommended))\n",
    "\n",
    "    recall = round((len(model_recommended)/len(user_rated_high))*100, 2)\n",
    "    precision = len(user_rated_high)/len(rec_movie_titles_list)\n",
    "    print('\\n******RECALL******')\n",
    "    print('******Model is able to recommend {}% of movies which are liked(rated high) by the user(user_id:{})******\\n'.format(recall, user_id))"
   ]
  },
  {
   "cell_type": "code",
   "execution_count": 5,
   "metadata": {},
   "outputs": [],
   "source": [
    "def rmse(actual, prediction):  # Root mean squared error calculation\n",
    "    return sqrt(mean_squared_error(actual, prediction))"
   ]
  },
  {
   "cell_type": "code",
   "execution_count": null,
   "metadata": {},
   "outputs": [],
   "source": []
  }
 ],
 "metadata": {
  "kernelspec": {
   "display_name": "Python 3",
   "language": "python",
   "name": "python3"
  },
  "language_info": {
   "codemirror_mode": {
    "name": "ipython",
    "version": 3
   },
   "file_extension": ".py",
   "mimetype": "text/x-python",
   "name": "python",
   "nbconvert_exporter": "python",
   "pygments_lexer": "ipython3",
   "version": "3.6.5"
  }
 },
 "nbformat": 4,
 "nbformat_minor": 2
}
