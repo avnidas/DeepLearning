{
 "cells": [
  {
   "cell_type": "code",
   "execution_count": 1,
   "metadata": {},
   "outputs": [],
   "source": [
    "import time\n",
    "import tweepy\n",
    "import operator\n",
    "import pandas as pd\n",
    "from collections import defaultdict\n",
    "import requests\n",
    "import re\n",
    "from bs4 import BeautifulSoup\n",
    "\n",
    "from tweepy import OAuthHandler\n",
    "# from get_config import get_config\n",
    "\n",
    "\n",
    "\n",
    "# env = get_config()\n",
    "\n",
    "\n",
    "\n",
    "\n",
    "\n"
   ]
  },
  {
   "cell_type": "code",
   "execution_count": 2,
   "metadata": {},
   "outputs": [],
   "source": [
    "access_token = \"988745421584351232-4KmOVUHFjndSXxVMrah4g8MYMPM2cWE\"\n",
    "access_token_secret = \"jSV86rHox9pNREKNJxbIFN1JFsXItOLny95WxA7KIOxKI\"\n",
    "consumer_key = \"COA6fkjdCVLOFtepkapXZ5EbP\"\n",
    "consumer_secret = \"NAXf8Q8ZPFKb46NcrWbREWtkL97yHku590ztp1Ebr5POoMSExz\"\n"
   ]
  },
  {
   "cell_type": "code",
   "execution_count": 3,
   "metadata": {},
   "outputs": [],
   "source": [
    "auth = OAuthHandler(consumer_key, consumer_secret)\n",
    "auth.set_access_token(access_token, access_token_secret)\n",
    " \n",
    "api = tweepy.API(auth)\n"
   ]
  },
  {
   "cell_type": "code",
   "execution_count": 6,
   "metadata": {},
   "outputs": [],
   "source": [
    "def t_original_tweets(n):\n",
    "\tresult = []\n",
    "\tcount = 0\n",
    "\tfor x in range(n):\n",
    "\t\ttweets = api.user_timeline(id=\"@ThisIsFusion\",count=200,page=x+1,include_rts=True)\n",
    "\t\ttweets = [t for t in tweets if not t.text[:2] == 'RT']\n",
    "\t\tresult += tweets\n",
    "\t\tcount += 1\n",
    "\t\tif (x+1)%10 == 0:\n",
    "\t\t\tprint ('sleep for one minute')\n",
    "\t\t\ttime.sleep(60)\n",
    "\t\tprint (count, 'of ', n, 'pages done')\n",
    "\treturn result"
   ]
  },
  {
   "cell_type": "code",
   "execution_count": 7,
   "metadata": {},
   "outputs": [],
   "source": [
    "\n",
    "def t_feature(level1,level2):\n",
    "\tif t.entities[level1]:\n",
    "\t\treturn t.entities[level1][0][level2]\n",
    "\telse:\n",
    "\t\treturn ''"
   ]
  },
  {
   "cell_type": "code",
   "execution_count": 8,
   "metadata": {},
   "outputs": [],
   "source": [
    "\n",
    "\n",
    "def t_rank(n):\n",
    "\ttweets.sort(key=operator.attrgetter('retweet_count'), reverse=True)\n",
    "\treturn [(t.id, t.retweet_count) for t in tweets[:n]]\n"
   ]
  },
  {
   "cell_type": "code",
   "execution_count": 9,
   "metadata": {},
   "outputs": [],
   "source": [
    "\n",
    "\n",
    "def w_story_vedio(url):\n",
    "\tif url:\n",
    "\t\treturn re.findall('http://fusion.net/(\\w*)/\\d*',url)[0]\n",
    "\telse:\n",
    "\t\treturn ''\n"
   ]
  },
  {
   "cell_type": "code",
   "execution_count": 10,
   "metadata": {},
   "outputs": [],
   "source": [
    "\n",
    "def w_idd(url):\n",
    "\tif url:\n",
    "\t\treturn re.findall('http://fusion.net/\\w*/(\\d*)',url)[0]\n",
    "\telse:\n",
    "\t\treturn ''"
   ]
  },
  {
   "cell_type": "code",
   "execution_count": 11,
   "metadata": {},
   "outputs": [],
   "source": [
    "\n",
    "def convert_fusion_url(url):\n",
    "\tif url:\n",
    "\t\tr = requests.get(url)\n",
    "\t\tif re.search('http://fusion.net/(story)?(video)?/', r.url):\n",
    "\t\t\treturn 'http://fusion.net/'+w_story_vedio(r.url)+'/'+w_idd(r.url)\n",
    "\telse:\n",
    "\t\treturn ''\n"
   ]
  },
  {
   "cell_type": "code",
   "execution_count": null,
   "metadata": {},
   "outputs": [],
   "source": []
  },
  {
   "cell_type": "code",
   "execution_count": 12,
   "metadata": {},
   "outputs": [],
   "source": [
    "def w_short_json(url):\n",
    "\tif url:\n",
    "\t\tpage = requests.get(url).text\n",
    "\t\tsoup = BeautifulSoup(page)\n",
    "\t\turl = soup.find_all('link',{'rel':'canonical'})[0].get('href')\n",
    "\t\treturn requests.get(url+'json').text\n",
    "\telse:\n",
    "\t\treturn ''"
   ]
  },
  {
   "cell_type": "code",
   "execution_count": 13,
   "metadata": {},
   "outputs": [],
   "source": [
    "# this API lacks some really important features\n",
    "def w_long_json(url):\n",
    "\twp = 'https://public-api.wordpress.com/rest/v1.1/sites/73194874/posts/'\n",
    "\tif url:\n",
    "\t\treturn requests.get(wp+w_id(url).json())\n"
   ]
  },
  {
   "cell_type": "code",
   "execution_count": 14,
   "metadata": {},
   "outputs": [],
   "source": [
    "def w_feature(pattern):\n",
    "\tif u:\n",
    "\t\tif re.findall(pattern,json):\n",
    "\t\t\treturn re.findall(pattern,w_short_json(u))[0]\n",
    "\telse:\n",
    "\t\treturn ''\n"
   ]
  },
  {
   "cell_type": "code",
   "execution_count": 15,
   "metadata": {},
   "outputs": [
    {
     "name": "stdout",
     "output_type": "stream",
     "text": [
      "1 of  16 pages done\n",
      "2 of  16 pages done\n",
      "3 of  16 pages done\n",
      "4 of  16 pages done\n",
      "5 of  16 pages done\n",
      "6 of  16 pages done\n",
      "7 of  16 pages done\n",
      "8 of  16 pages done\n",
      "9 of  16 pages done\n",
      "sleep for one minute\n",
      "10 of  16 pages done\n",
      "11 of  16 pages done\n",
      "12 of  16 pages done\n",
      "13 of  16 pages done\n",
      "14 of  16 pages done\n",
      "15 of  16 pages done\n",
      "16 of  16 pages done\n"
     ]
    }
   ],
   "source": [
    "# 3,200 most recent tweets (16 page search)\n",
    "tweets = t_original_tweets(16)\n"
   ]
  },
  {
   "cell_type": "code",
   "execution_count": 17,
   "metadata": {},
   "outputs": [
    {
     "name": "stdout",
     "output_type": "stream",
     "text": [
      "The top most retweets\n",
      "\n",
      "      id          frequency\n",
      "(727247289891221504, 5)\n"
     ]
    }
   ],
   "source": []
  },
  {
   "cell_type": "code",
   "execution_count": 21,
   "metadata": {},
   "outputs": [
    {
     "name": "stdout",
     "output_type": "stream",
     "text": [
      "The top most retweets\n",
      "\n",
      "      id          frequency\n",
      "(727247289891221504, 5)\n",
      "tweets truncated to 1\n",
      "importing twitter content...\n"
     ]
    },
    {
     "ename": "NameError",
     "evalue": "name 't' is not defined",
     "output_type": "error",
     "traceback": [
      "\u001b[0;31m---------------------------------------------------------------------------\u001b[0m",
      "\u001b[0;31mNameError\u001b[0m                                 Traceback (most recent call last)",
      "\u001b[0;32m<ipython-input-21-02e7bc611f18>\u001b[0m in \u001b[0;36m<module>\u001b[0;34m()\u001b[0m\n\u001b[1;32m     12\u001b[0m \u001b[0;34m\u001b[0m\u001b[0m\n\u001b[1;32m     13\u001b[0m \u001b[0mt_id\u001b[0m \u001b[0;34m=\u001b[0m \u001b[0;34m[\u001b[0m\u001b[0mt\u001b[0m\u001b[0;34m.\u001b[0m\u001b[0mid\u001b[0m \u001b[0;32mfor\u001b[0m \u001b[0mt\u001b[0m \u001b[0;32min\u001b[0m \u001b[0mtweets\u001b[0m\u001b[0;34m]\u001b[0m\u001b[0;34m\u001b[0m\u001b[0m\n\u001b[0;32m---> 14\u001b[0;31m \u001b[0mt_url\u001b[0m \u001b[0;34m=\u001b[0m \u001b[0;34m[\u001b[0m\u001b[0mt_feature\u001b[0m\u001b[0;34m(\u001b[0m\u001b[0;34m'urls'\u001b[0m\u001b[0;34m,\u001b[0m\u001b[0;34m'url'\u001b[0m\u001b[0;34m)\u001b[0m \u001b[0;32mfor\u001b[0m \u001b[0mt\u001b[0m \u001b[0;32min\u001b[0m \u001b[0mtweets\u001b[0m\u001b[0;34m]\u001b[0m\u001b[0;34m\u001b[0m\u001b[0m\n\u001b[0m\u001b[1;32m     15\u001b[0m \u001b[0mt_text\u001b[0m \u001b[0;34m=\u001b[0m \u001b[0;34m[\u001b[0m\u001b[0mt\u001b[0m\u001b[0;34m.\u001b[0m\u001b[0mtext\u001b[0m \u001b[0;32mfor\u001b[0m \u001b[0mt\u001b[0m \u001b[0;32min\u001b[0m \u001b[0mtweets\u001b[0m\u001b[0;34m]\u001b[0m\u001b[0;34m\u001b[0m\u001b[0m\n\u001b[1;32m     16\u001b[0m \u001b[0mt_date\u001b[0m \u001b[0;34m=\u001b[0m \u001b[0;34m[\u001b[0m\u001b[0mt\u001b[0m\u001b[0;34m.\u001b[0m\u001b[0mcreated_at\u001b[0m \u001b[0;32mfor\u001b[0m \u001b[0mt\u001b[0m \u001b[0;32min\u001b[0m \u001b[0mtweets\u001b[0m\u001b[0;34m]\u001b[0m\u001b[0;34m\u001b[0m\u001b[0m\n",
      "\u001b[0;32m<ipython-input-21-02e7bc611f18>\u001b[0m in \u001b[0;36m<listcomp>\u001b[0;34m(.0)\u001b[0m\n\u001b[1;32m     12\u001b[0m \u001b[0;34m\u001b[0m\u001b[0m\n\u001b[1;32m     13\u001b[0m \u001b[0mt_id\u001b[0m \u001b[0;34m=\u001b[0m \u001b[0;34m[\u001b[0m\u001b[0mt\u001b[0m\u001b[0;34m.\u001b[0m\u001b[0mid\u001b[0m \u001b[0;32mfor\u001b[0m \u001b[0mt\u001b[0m \u001b[0;32min\u001b[0m \u001b[0mtweets\u001b[0m\u001b[0;34m]\u001b[0m\u001b[0;34m\u001b[0m\u001b[0m\n\u001b[0;32m---> 14\u001b[0;31m \u001b[0mt_url\u001b[0m \u001b[0;34m=\u001b[0m \u001b[0;34m[\u001b[0m\u001b[0mt_feature\u001b[0m\u001b[0;34m(\u001b[0m\u001b[0;34m'urls'\u001b[0m\u001b[0;34m,\u001b[0m\u001b[0;34m'url'\u001b[0m\u001b[0;34m)\u001b[0m \u001b[0;32mfor\u001b[0m \u001b[0mt\u001b[0m \u001b[0;32min\u001b[0m \u001b[0mtweets\u001b[0m\u001b[0;34m]\u001b[0m\u001b[0;34m\u001b[0m\u001b[0m\n\u001b[0m\u001b[1;32m     15\u001b[0m \u001b[0mt_text\u001b[0m \u001b[0;34m=\u001b[0m \u001b[0;34m[\u001b[0m\u001b[0mt\u001b[0m\u001b[0;34m.\u001b[0m\u001b[0mtext\u001b[0m \u001b[0;32mfor\u001b[0m \u001b[0mt\u001b[0m \u001b[0;32min\u001b[0m \u001b[0mtweets\u001b[0m\u001b[0;34m]\u001b[0m\u001b[0;34m\u001b[0m\u001b[0m\n\u001b[1;32m     16\u001b[0m \u001b[0mt_date\u001b[0m \u001b[0;34m=\u001b[0m \u001b[0;34m[\u001b[0m\u001b[0mt\u001b[0m\u001b[0;34m.\u001b[0m\u001b[0mcreated_at\u001b[0m \u001b[0;32mfor\u001b[0m \u001b[0mt\u001b[0m \u001b[0;32min\u001b[0m \u001b[0mtweets\u001b[0m\u001b[0;34m]\u001b[0m\u001b[0;34m\u001b[0m\u001b[0m\n",
      "\u001b[0;32m<ipython-input-7-68f4e46af857>\u001b[0m in \u001b[0;36mt_feature\u001b[0;34m(level1, level2)\u001b[0m\n\u001b[1;32m      1\u001b[0m \u001b[0;34m\u001b[0m\u001b[0m\n\u001b[1;32m      2\u001b[0m \u001b[0;32mdef\u001b[0m \u001b[0mt_feature\u001b[0m\u001b[0;34m(\u001b[0m\u001b[0mlevel1\u001b[0m\u001b[0;34m,\u001b[0m\u001b[0mlevel2\u001b[0m\u001b[0;34m)\u001b[0m\u001b[0;34m:\u001b[0m\u001b[0;34m\u001b[0m\u001b[0m\n\u001b[0;32m----> 3\u001b[0;31m         \u001b[0;32mif\u001b[0m \u001b[0mt\u001b[0m\u001b[0;34m.\u001b[0m\u001b[0mentities\u001b[0m\u001b[0;34m[\u001b[0m\u001b[0mlevel1\u001b[0m\u001b[0;34m]\u001b[0m\u001b[0;34m:\u001b[0m\u001b[0;34m\u001b[0m\u001b[0m\n\u001b[0m\u001b[1;32m      4\u001b[0m                 \u001b[0;32mreturn\u001b[0m \u001b[0mt\u001b[0m\u001b[0;34m.\u001b[0m\u001b[0mentities\u001b[0m\u001b[0;34m[\u001b[0m\u001b[0mlevel1\u001b[0m\u001b[0;34m]\u001b[0m\u001b[0;34m[\u001b[0m\u001b[0;36m0\u001b[0m\u001b[0;34m]\u001b[0m\u001b[0;34m[\u001b[0m\u001b[0mlevel2\u001b[0m\u001b[0;34m]\u001b[0m\u001b[0;34m\u001b[0m\u001b[0m\n\u001b[1;32m      5\u001b[0m         \u001b[0;32melse\u001b[0m\u001b[0;34m:\u001b[0m\u001b[0;34m\u001b[0m\u001b[0m\n",
      "\u001b[0;31mNameError\u001b[0m: name 't' is not defined"
     ]
    }
   ],
   "source": []
  },
  {
   "cell_type": "code",
   "execution_count": 23,
   "metadata": {},
   "outputs": [
    {
     "name": "stdout",
     "output_type": "stream",
     "text": [
      "The top most retweets\n",
      "\n",
      "      id          frequency\n",
      "(727247289891221504, 5)\n",
      "tweets truncated to 1\n",
      "importing twitter content...\n"
     ]
    },
    {
     "ename": "NameError",
     "evalue": "name 't' is not defined",
     "output_type": "error",
     "traceback": [
      "\u001b[0;31m---------------------------------------------------------------------------\u001b[0m",
      "\u001b[0;31mNameError\u001b[0m                                 Traceback (most recent call last)",
      "\u001b[0;32m<ipython-input-23-0b171fdaad1f>\u001b[0m in \u001b[0;36m<module>\u001b[0;34m()\u001b[0m\n\u001b[1;32m     13\u001b[0m \u001b[0;34m\u001b[0m\u001b[0m\n\u001b[1;32m     14\u001b[0m     \u001b[0mt_id\u001b[0m \u001b[0;34m=\u001b[0m \u001b[0;34m[\u001b[0m\u001b[0mt\u001b[0m\u001b[0;34m.\u001b[0m\u001b[0mid\u001b[0m \u001b[0;32mfor\u001b[0m \u001b[0mt\u001b[0m \u001b[0;32min\u001b[0m \u001b[0mtweets\u001b[0m\u001b[0;34m]\u001b[0m\u001b[0;34m\u001b[0m\u001b[0m\n\u001b[0;32m---> 15\u001b[0;31m     \u001b[0mt_url\u001b[0m \u001b[0;34m=\u001b[0m \u001b[0;34m[\u001b[0m\u001b[0mt_feature\u001b[0m\u001b[0;34m(\u001b[0m\u001b[0;34m'urls'\u001b[0m\u001b[0;34m,\u001b[0m\u001b[0;34m'url'\u001b[0m\u001b[0;34m)\u001b[0m \u001b[0;32mfor\u001b[0m \u001b[0mt\u001b[0m \u001b[0;32min\u001b[0m \u001b[0mtweets\u001b[0m\u001b[0;34m]\u001b[0m\u001b[0;34m\u001b[0m\u001b[0m\n\u001b[0m\u001b[1;32m     16\u001b[0m     \u001b[0mt_text\u001b[0m \u001b[0;34m=\u001b[0m \u001b[0;34m[\u001b[0m\u001b[0mt\u001b[0m\u001b[0;34m.\u001b[0m\u001b[0mtext\u001b[0m \u001b[0;32mfor\u001b[0m \u001b[0mt\u001b[0m \u001b[0;32min\u001b[0m \u001b[0mtweets\u001b[0m\u001b[0;34m]\u001b[0m\u001b[0;34m\u001b[0m\u001b[0m\n\u001b[1;32m     17\u001b[0m     \u001b[0mt_date\u001b[0m \u001b[0;34m=\u001b[0m \u001b[0;34m[\u001b[0m\u001b[0mt\u001b[0m\u001b[0;34m.\u001b[0m\u001b[0mcreated_at\u001b[0m \u001b[0;32mfor\u001b[0m \u001b[0mt\u001b[0m \u001b[0;32min\u001b[0m \u001b[0mtweets\u001b[0m\u001b[0;34m]\u001b[0m\u001b[0;34m\u001b[0m\u001b[0m\n",
      "\u001b[0;32m<ipython-input-23-0b171fdaad1f>\u001b[0m in \u001b[0;36m<listcomp>\u001b[0;34m(.0)\u001b[0m\n\u001b[1;32m     13\u001b[0m \u001b[0;34m\u001b[0m\u001b[0m\n\u001b[1;32m     14\u001b[0m     \u001b[0mt_id\u001b[0m \u001b[0;34m=\u001b[0m \u001b[0;34m[\u001b[0m\u001b[0mt\u001b[0m\u001b[0;34m.\u001b[0m\u001b[0mid\u001b[0m \u001b[0;32mfor\u001b[0m \u001b[0mt\u001b[0m \u001b[0;32min\u001b[0m \u001b[0mtweets\u001b[0m\u001b[0;34m]\u001b[0m\u001b[0;34m\u001b[0m\u001b[0m\n\u001b[0;32m---> 15\u001b[0;31m     \u001b[0mt_url\u001b[0m \u001b[0;34m=\u001b[0m \u001b[0;34m[\u001b[0m\u001b[0mt_feature\u001b[0m\u001b[0;34m(\u001b[0m\u001b[0;34m'urls'\u001b[0m\u001b[0;34m,\u001b[0m\u001b[0;34m'url'\u001b[0m\u001b[0;34m)\u001b[0m \u001b[0;32mfor\u001b[0m \u001b[0mt\u001b[0m \u001b[0;32min\u001b[0m \u001b[0mtweets\u001b[0m\u001b[0;34m]\u001b[0m\u001b[0;34m\u001b[0m\u001b[0m\n\u001b[0m\u001b[1;32m     16\u001b[0m     \u001b[0mt_text\u001b[0m \u001b[0;34m=\u001b[0m \u001b[0;34m[\u001b[0m\u001b[0mt\u001b[0m\u001b[0;34m.\u001b[0m\u001b[0mtext\u001b[0m \u001b[0;32mfor\u001b[0m \u001b[0mt\u001b[0m \u001b[0;32min\u001b[0m \u001b[0mtweets\u001b[0m\u001b[0;34m]\u001b[0m\u001b[0;34m\u001b[0m\u001b[0m\n\u001b[1;32m     17\u001b[0m     \u001b[0mt_date\u001b[0m \u001b[0;34m=\u001b[0m \u001b[0;34m[\u001b[0m\u001b[0mt\u001b[0m\u001b[0;34m.\u001b[0m\u001b[0mcreated_at\u001b[0m \u001b[0;32mfor\u001b[0m \u001b[0mt\u001b[0m \u001b[0;32min\u001b[0m \u001b[0mtweets\u001b[0m\u001b[0;34m]\u001b[0m\u001b[0;34m\u001b[0m\u001b[0m\n",
      "\u001b[0;32m<ipython-input-7-68f4e46af857>\u001b[0m in \u001b[0;36mt_feature\u001b[0;34m(level1, level2)\u001b[0m\n\u001b[1;32m      1\u001b[0m \u001b[0;34m\u001b[0m\u001b[0m\n\u001b[1;32m      2\u001b[0m \u001b[0;32mdef\u001b[0m \u001b[0mt_feature\u001b[0m\u001b[0;34m(\u001b[0m\u001b[0mlevel1\u001b[0m\u001b[0;34m,\u001b[0m\u001b[0mlevel2\u001b[0m\u001b[0;34m)\u001b[0m\u001b[0;34m:\u001b[0m\u001b[0;34m\u001b[0m\u001b[0m\n\u001b[0;32m----> 3\u001b[0;31m         \u001b[0;32mif\u001b[0m \u001b[0mt\u001b[0m\u001b[0;34m.\u001b[0m\u001b[0mentities\u001b[0m\u001b[0;34m[\u001b[0m\u001b[0mlevel1\u001b[0m\u001b[0;34m]\u001b[0m\u001b[0;34m:\u001b[0m\u001b[0;34m\u001b[0m\u001b[0m\n\u001b[0m\u001b[1;32m      4\u001b[0m                 \u001b[0;32mreturn\u001b[0m \u001b[0mt\u001b[0m\u001b[0;34m.\u001b[0m\u001b[0mentities\u001b[0m\u001b[0;34m[\u001b[0m\u001b[0mlevel1\u001b[0m\u001b[0;34m]\u001b[0m\u001b[0;34m[\u001b[0m\u001b[0;36m0\u001b[0m\u001b[0;34m]\u001b[0m\u001b[0;34m[\u001b[0m\u001b[0mlevel2\u001b[0m\u001b[0;34m]\u001b[0m\u001b[0;34m\u001b[0m\u001b[0m\n\u001b[1;32m      5\u001b[0m         \u001b[0;32melse\u001b[0m\u001b[0;34m:\u001b[0m\u001b[0;34m\u001b[0m\u001b[0m\n",
      "\u001b[0;31mNameError\u001b[0m: name 't' is not defined"
     ]
    }
   ],
   "source": [
    "rank = t_rank(10)\n",
    "print (\"The top most retweets\\n\")\n",
    "print (\"      id          frequency\")\n",
    "for i in rank:\n",
    "    print (i)\n",
    "\n",
    "\n",
    "    tweets = tweets[:10]\n",
    "    print ('tweets truncated to', len(tweets))\n",
    "\n",
    "\n",
    "    print (\"importing twitter content...\")\n",
    "\n",
    "    t_id = [t.id for t in tweets]\n",
    "    t_url = [t_feature('urls','url') for t in tweets]\n",
    "    t_text = [t.text for t in tweets]\n",
    "    t_date = [t.created_at for t in tweets]\n",
    "    t_hashtags = [t_feature('hashtags','text') for t in tweets]\n",
    "    t_mentions = [t_feature('user_mentions','screen_name') for t in tweets]\n",
    "    t_retweets = [t.retweet_count for t in tweets]\n",
    "    t_favorites = [t.favorite_count for t in tweets]\n",
    "\n",
    "\n",
    "\n",
    "print (\"converting links from twitter to website...\")\n",
    "\n",
    "w_id = []\n",
    "w_genre = []\n",
    "w_title = []\n",
    "w_link = []\n",
    "w_date = []\n",
    "w_authors = []\n",
    "w_show = []\n",
    "w_tags_section = []\n",
    "w_tags_topic = []\n",
    "w_tags_story_type = []\n",
    "w_tags_location = []\n",
    "w_tags_person = []\n",
    "w_tags_organization = []\n",
    "w_tags_event = []\n",
    "\n",
    "fusion_urls = [convert_fusion_url(u) for u in t_url]\n",
    "\n",
    "\n",
    "\n",
    "print ('importing website content...')\n",
    "\n",
    "count = 0\n",
    "for u in fusion_urls:\n",
    "\tif u:\n",
    "\t\tjson = w_short_json(u)\n",
    "\t\tw_id.append(w_idd(u))\n",
    "\t\tw_genre.append(w_story_vedio(u))\n",
    "\t\tw_link.append(u)\n",
    "\t\tw_title.append(w_feature('\"title\":\"(.*)\",\"published\"'))\n",
    "\t\tw_date.append(w_feature('\"published\":(.*)\",\"link\"'))\n",
    "\t\tw_authors.append(w_feature('\"authors\":\\[(.*)\\],\"tags\"'))\n",
    "\t\tw_show.append(w_feature('\"show\":\"(.*)\",\"images\"'))\n",
    "\t\tw_tags_section.append(w_feature('\"section\":\\[([\\w\", ]+)\\]'))\n",
    "\t\tw_tags_topic.append(w_feature('\"topic\":\\[([\\w\", ]+)\\]'))\n",
    "\t\tw_tags_story_type.append(w_feature('\"story_type\":\\[([\\w\", ]+)\\]'))\n",
    "\t\tw_tags_location.append(w_feature('\"location\":\\[([\\w\", ]+)\\]'))\n",
    "\t\tw_tags_person.append(w_feature('\"person\":\\[([\\w\", ]+)\\]'))\n",
    "\t\tw_tags_organization.append(w_feature('\"organization\":\\[([\\w\", ]+)\\]'))\n",
    "\t\tw_tags_event.append(w_feature('\"event\":\\[([\\w\", ]+)\\]'))\n",
    "\telse:\n",
    "\t\tw_id.append('')\n",
    "\t\tw_genre.append('')\n",
    "\t\tw_link.append('')\n",
    "\t\tw_title.append('')\n",
    "\t\tw_date.append('')\n",
    "\t\tw_authors.append('')\n",
    "\t\tw_show.append('')\n",
    "\t\tw_tags_section.append('')\n",
    "\t\tw_tags_topic.append('')\n",
    "\t\tw_tags_story_type.append('')\n",
    "\t\tw_tags_location.append('')\n",
    "\t\tw_tags_person.append('')\n",
    "\t\tw_tags_organization.append('')\n",
    "\t\tw_tags_event.append('')\n",
    "\tcount += 1\n",
    "\tprint (count, 'data points imported')\n",
    "\n",
    "\n",
    "\n",
    "print ('export to local file...')\n",
    "\n",
    "tdic = {'t_id': t_id, 't_text': t_text, 't_date': t_date, 't_url': t_url, 't_hashtags': t_hashtags,\n",
    "\t\t't_mentions': t_mentions, 't_retweets': t_retweets, 't_favorites': t_favorites, \n",
    "\t\t'w_id': w_id, 'w_genre': w_genre, 'w_title': w_title, 'w_link': w_link, 'w_date': w_date,\n",
    "\t\t'w_authors': w_authors, 'w_show': w_show, 'w_tags_section': w_tags_section,\n",
    "\t\t'w_tags_topic': w_tags_topic, 'w_tags_story_type': w_tags_story_type,\n",
    "\t\t'w_tags_location': w_tags_location, 'w_tags_person': w_tags_person,\n",
    "\t\t'w_tags_organization': w_tags_organization, 'w_tags_event': w_tags_event}\n",
    "\n",
    "\n",
    "df = pd.DataFrame(tdic)\n",
    "\n",
    "df.to_csv('top10.csv', encoding='utf-8')\n",
    "\n",
    "print ('project is done!')\n",
    "\n"
   ]
  },
  {
   "cell_type": "code",
   "execution_count": null,
   "metadata": {},
   "outputs": [],
   "source": []
  }
 ],
 "metadata": {
  "kernelspec": {
   "display_name": "Python 3",
   "language": "python",
   "name": "python3"
  },
  "language_info": {
   "codemirror_mode": {
    "name": "ipython",
    "version": 3
   },
   "file_extension": ".py",
   "mimetype": "text/x-python",
   "name": "python",
   "nbconvert_exporter": "python",
   "pygments_lexer": "ipython3",
   "version": "3.6.5"
  }
 },
 "nbformat": 4,
 "nbformat_minor": 2
}
